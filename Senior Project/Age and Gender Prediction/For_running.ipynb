{
  "cells": [
    {
      "cell_type": "code",
      "source": [
        "from google.colab import drive\n",
        "drive.mount('/content/drive')"
      ],
      "metadata": {
        "colab": {
          "base_uri": "https://localhost:8080/"
        },
        "id": "0makZoS9bis_",
        "outputId": "eba682db-b6ca-4b8b-e4a0-581edcaee33c"
      },
      "execution_count": null,
      "outputs": [
        {
          "output_type": "stream",
          "name": "stdout",
          "text": [
            "Mounted at /content/drive\n"
          ]
        }
      ]
    },
    {
      "cell_type": "code",
      "execution_count": null,
      "metadata": {
        "id": "uUBY92vhxqH5"
      },
      "outputs": [],
      "source": [
        "import os\n",
        "import cv2\n",
        "import numpy as np\n",
        "import shutil\n",
        "from os import listdir\n",
        "from os.path import isdir\n",
        "from PIL import Image, ImageEnhance\n",
        "from numpy import asarray\n",
        "from matplotlib import pyplot\n",
        "import tensorflow as tf\n",
        "from numpy import savez_compressed\n",
        "from sklearn.model_selection import train_test_split\n",
        "from google.colab.patches import cv2_imshow\n",
        "import matplotlib.pyplot as plt\n",
        "from keras.layers import Input\n",
        "from sklearn.metrics import mean_squared_error, r2_score\n",
        "from tensorflow.keras.layers import Input, Flatten, Dense, Dropout, LeakyReLU, BatchNormalization\n",
        "from tensorflow.keras.callbacks import ReduceLROnPlateau, ModelCheckpoint\n",
        "from tensorflow.keras.models import Model, load_model\n",
        "import random\n",
        "import keras"
      ]
    },
    {
      "cell_type": "code",
      "execution_count": null,
      "metadata": {
        "id": "kKf7FU7DDvJA"
      },
      "outputs": [],
      "source": [
        "NN_age_estimation_loaded = keras.models.load_model('/content/drive/MyDrive/Model/neural_network_age.h5') #3\n",
        "NN_gender_estimation_loaded = keras.models.load_model('/content/drive/MyDrive/Model/neural_network_gender.h5') #3\n",
        "CNN_age_estimation_loaded = keras.models.load_model('/content/drive/MyDrive/Model/CNN_age.h5')\n",
        "CNN_gender_estimation_loaded = keras.models.load_model('/content/drive/MyDrive/Model/CNN_gender.h5')\n",
        "Pretrained_gender_estimation_loaded = keras.models.load_model('/content/drive/MyDrive/Model/Pretrained_gender.h5')\n",
        "Pretrained_age_estimation_loaded = keras.models.load_model('/content/drive/MyDrive/Model/pretrained_age.h5')"
      ]
    },
    {
      "cell_type": "code",
      "source": [
        "def get_gender(prob):\n",
        "    if prob < 0.5:return \"Male\"\n",
        "    else: return \"Female\""
      ],
      "metadata": {
        "id": "XjjsHl123g2H"
      },
      "execution_count": null,
      "outputs": []
    },
    {
      "cell_type": "code",
      "source": [
        "CNN_model = load_model('/content/drive/MyDrive/2in1/combine_CNN.h5')\n",
        "NN_model = load_model('/content/drive/MyDrive/2in1/combine_NN.h5')\n",
        "Pretrained_model = load_model('/content/drive/MyDrive/2in1/combine_Pretrained.h5')"
      ],
      "metadata": {
        "id": "ZKS6xLnfcZQq"
      },
      "execution_count": null,
      "outputs": []
    },
    {
      "cell_type": "code",
      "source": [
        "# none 224 224 1\n",
        "#Gray scale for CNN and NN\n",
        "img = cv2.imread('/content/343301330_1591162821361163_8760831218397747568_n.jpg', cv2.IMREAD_GRAYSCALE)\n",
        "\n",
        "img_resized = cv2.resize(img, (224, 224))\n",
        "img_resized = img_resized /255\n",
        "# Reshape the image to (None, 224, 224, 1)\n",
        "img_reshaped = img_resized.reshape((-1, 224, 224, 1))\n",
        "print(img_reshaped.shape)\n"
      ],
      "metadata": {
        "colab": {
          "base_uri": "https://localhost:8080/"
        },
        "id": "kqCVWQ8GhWEG",
        "outputId": "a13bb243-6224-4750-a447-e517510a41e1"
      },
      "execution_count": null,
      "outputs": [
        {
          "output_type": "stream",
          "name": "stdout",
          "text": [
            "(1, 224, 224, 1)\n"
          ]
        }
      ]
    },
    {
      "cell_type": "code",
      "source": [
        "result = CNN_model.predict(img_reshaped)\n",
        "print (\"Predicted Age:\", round(int(result[0])), \"Predicted Gender:\", get_gender(result[1]))"
      ],
      "metadata": {
        "colab": {
          "base_uri": "https://localhost:8080/"
        },
        "id": "MsjdKEIz2YKC",
        "outputId": "e71e1a1f-62a4-47c9-b57e-fad617b69d3a"
      },
      "execution_count": null,
      "outputs": [
        {
          "output_type": "stream",
          "name": "stdout",
          "text": [
            "1/1 [==============================] - 8s 8s/step\n",
            "Predicted Age: 20 Predicted Gender: Female\n"
          ]
        }
      ]
    },
    {
      "cell_type": "code",
      "source": [
        "result = NN_model.predict(img_reshaped)\n",
        "print (\"Predicted Age:\", int(result[0][0][0][0][0]))\n",
        "print (\"Predicted Gender\", get_gender(result[1]))"
      ],
      "metadata": {
        "colab": {
          "base_uri": "https://localhost:8080/"
        },
        "id": "1FG7bXnBejR6",
        "outputId": "08827d6d-2d6f-4333-8450-2a0c0919afa4"
      },
      "execution_count": null,
      "outputs": [
        {
          "output_type": "stream",
          "name": "stdout",
          "text": [
            "1/1 [==============================] - 0s 186ms/step\n",
            "Predicted Age: 36\n",
            "Predicted Gender Female\n"
          ]
        }
      ]
    },
    {
      "cell_type": "code",
      "source": [
        "#none 224 224 3\n",
        "#pretrain require color img\n",
        "img = cv2.imread('/content/me_test.jpg')\n",
        "\n",
        "img_resized = cv2.resize(img, (224, 224))\n",
        "img_resized = img_resized / 255\n",
        "# Reshape the image to (None, 224, 224, 3)\n",
        "img_reshaped = img_resized.reshape((-1, 224, 224, 3))\n",
        "\n",
        "print(img_reshaped.shape)"
      ],
      "metadata": {
        "colab": {
          "base_uri": "https://localhost:8080/"
        },
        "id": "RPqjTo0E08JT",
        "outputId": "38ed84e8-dd2d-478f-9da9-1c336fed4356"
      },
      "execution_count": null,
      "outputs": [
        {
          "output_type": "stream",
          "name": "stdout",
          "text": [
            "(1, 224, 224, 3)\n"
          ]
        }
      ]
    },
    {
      "cell_type": "code",
      "source": [
        "result = Pretrained_model.predict(img_reshaped)\n",
        "print (\"Predicted Age:\", int(result[0]), \"Predicted Gender\", get_gender(result[1]))"
      ],
      "metadata": {
        "colab": {
          "base_uri": "https://localhost:8080/"
        },
        "id": "syKPb4xz5h9J",
        "outputId": "cdac383d-535a-4280-a1d1-aab23bcd55ce"
      },
      "execution_count": null,
      "outputs": [
        {
          "output_type": "stream",
          "name": "stdout",
          "text": [
            "1/1 [==============================] - 0s 19ms/step\n",
            "Predicted Age: 0 Predicted Gender Male\n"
          ]
        }
      ]
    },
    {
      "cell_type": "code",
      "source": [
        "Pretrained_model.input_shape"
      ],
      "metadata": {
        "id": "HlqL_YlxrdaS",
        "outputId": "1c6a07e2-7560-4ac2-b038-8151811c870e",
        "colab": {
          "base_uri": "https://localhost:8080/"
        }
      },
      "execution_count": null,
      "outputs": [
        {
          "output_type": "execute_result",
          "data": {
            "text/plain": [
              "(None, 224, 224, 3)"
            ]
          },
          "metadata": {},
          "execution_count": 17
        }
      ]
    },
    {
      "cell_type": "code",
      "source": [
        "result = NN_age_estimation_loaded.predict(img_reshaped)\n",
        "print (\"Predicted Age:\", int(result))\n",
        "result = NN_gender_estimation_loaded.predict(img_reshaped)\n",
        "print (\"Predicted gender:\", get_gender(int(result)))"
      ],
      "metadata": {
        "colab": {
          "base_uri": "https://localhost:8080/"
        },
        "id": "W-06FhPPfCkA",
        "outputId": "e1329f53-57e9-4128-bf63-9e1869cab79f"
      },
      "execution_count": null,
      "outputs": [
        {
          "output_type": "stream",
          "name": "stdout",
          "text": [
            "1/1 [==============================] - 0s 139ms/step\n",
            "Predicted Age: 28\n"
          ]
        },
        {
          "output_type": "stream",
          "name": "stderr",
          "text": [
            "WARNING:tensorflow:5 out of the last 5 calls to <function Model.make_predict_function.<locals>.predict_function at 0x7fb4dc4e0700> triggered tf.function retracing. Tracing is expensive and the excessive number of tracings could be due to (1) creating @tf.function repeatedly in a loop, (2) passing tensors with different shapes, (3) passing Python objects instead of tensors. For (1), please define your @tf.function outside of the loop. For (2), @tf.function has reduce_retracing=True option that can avoid unnecessary retracing. For (3), please refer to https://www.tensorflow.org/guide/function#controlling_retracing and https://www.tensorflow.org/api_docs/python/tf/function for  more details.\n"
          ]
        },
        {
          "output_type": "stream",
          "name": "stdout",
          "text": [
            "1/1 [==============================] - 0s 97ms/step\n",
            "Predicted gender: Male\n"
          ]
        }
      ]
    },
    {
      "cell_type": "code",
      "source": [
        "result = CNN_age_estimation_loaded.predict(img_reshaped)\n",
        "print (\"Predicted Age:\", int(result))\n",
        "result = CNN_age_estimation_loaded.predict(img_reshaped)\n",
        "print (\"Predicted gender:\", get_gender(int(result)))"
      ],
      "metadata": {
        "colab": {
          "base_uri": "https://localhost:8080/"
        },
        "id": "Iy6N-WbGfMbH",
        "outputId": "c1065f6c-19e0-4821-e37f-82388e968c5e"
      },
      "execution_count": null,
      "outputs": [
        {
          "output_type": "stream",
          "name": "stderr",
          "text": [
            "WARNING:tensorflow:5 out of the last 10 calls to <function Model.make_predict_function.<locals>.predict_function at 0x7feef4ddec20> triggered tf.function retracing. Tracing is expensive and the excessive number of tracings could be due to (1) creating @tf.function repeatedly in a loop, (2) passing tensors with different shapes, (3) passing Python objects instead of tensors. For (1), please define your @tf.function outside of the loop. For (2), @tf.function has reduce_retracing=True option that can avoid unnecessary retracing. For (3), please refer to https://www.tensorflow.org/guide/function#controlling_retracing and https://www.tensorflow.org/api_docs/python/tf/function for  more details.\n"
          ]
        },
        {
          "output_type": "stream",
          "name": "stdout",
          "text": [
            "1/1 [==============================] - 0s 161ms/step\n",
            "Predicted Age: 62\n",
            "1/1 [==============================] - 0s 18ms/step\n",
            "Predicted gender: Female\n"
          ]
        }
      ]
    },
    {
      "cell_type": "code",
      "source": [
        "result = Pretrained_gender_estimation_loaded.predict(img_reshaped)\n",
        "print (\"Predicted Age:\", int(result))\n",
        "result = Pretrained_gender_estimation_loaded.predict(img_reshaped)\n",
        "print (\"Predicted gender:\", get_gender(int(result)))"
      ],
      "metadata": {
        "colab": {
          "base_uri": "https://localhost:8080/"
        },
        "id": "wUuxn-wrfmbQ",
        "outputId": "d813e8c6-7dda-4103-bfcc-57c861496809"
      },
      "execution_count": null,
      "outputs": [
        {
          "output_type": "stream",
          "name": "stderr",
          "text": [
            "WARNING:tensorflow:5 out of the last 11 calls to <function Model.make_predict_function.<locals>.predict_function at 0x7feef4dde950> triggered tf.function retracing. Tracing is expensive and the excessive number of tracings could be due to (1) creating @tf.function repeatedly in a loop, (2) passing tensors with different shapes, (3) passing Python objects instead of tensors. For (1), please define your @tf.function outside of the loop. For (2), @tf.function has reduce_retracing=True option that can avoid unnecessary retracing. For (3), please refer to https://www.tensorflow.org/guide/function#controlling_retracing and https://www.tensorflow.org/api_docs/python/tf/function for  more details.\n"
          ]
        },
        {
          "output_type": "stream",
          "name": "stdout",
          "text": [
            "1/1 [==============================] - 1s 767ms/step\n",
            "Predicted Age: 0\n",
            "1/1 [==============================] - 0s 20ms/step\n",
            "Predicted gender: Male\n"
          ]
        }
      ]
    },
    {
      "cell_type": "code",
      "source": [],
      "metadata": {
        "id": "vD2wQmd2Uj0l"
      },
      "execution_count": null,
      "outputs": []
    }
  ],
  "metadata": {
    "colab": {
      "provenance": [],
      "machine_shape": "hm",
      "gpuType": "T4"
    },
    "kernelspec": {
      "display_name": "Python 3",
      "name": "python3"
    },
    "language_info": {
      "name": "python"
    },
    "accelerator": "GPU",
    "gpuClass": "standard"
  },
  "nbformat": 4,
  "nbformat_minor": 0
}